{
  "cells": [
    {
      "cell_type": "markdown",
      "metadata": {
        "id": "3YHkjSuuGhqt"
      },
      "source": [
        "# LAB | Error Handling in Python\n",
        "\n",
        "## Overview\n",
        "This exercise notebook will help you practice error handling in Python using exceptions. You will write programs that handle various types of exceptions to ensure your code runs smoothly and handles errors gracefully."
      ]
    },
    {
      "cell_type": "markdown",
      "metadata": {
        "id": "oXrmcFDQGhq9"
      },
      "source": [
        "### Exercise 1: Handle ZeroDivisionError\n",
        "Write a Python program to handle a `ZeroDivisionError` exception when dividing a number by zero.\n"
      ]
    },
    {
      "cell_type": "code",
      "execution_count": 1,
      "metadata": {
        "colab": {
          "base_uri": "https://localhost:8080/"
        },
        "id": "81DWZuMfGhrA",
        "outputId": "06f169e8-bc93-4b6b-8b97-7449e7f3f4ff"
      },
      "outputs": [
        {
          "output_type": "stream",
          "name": "stdout",
          "text": [
            "Enter the numerator: 1\n",
            "Enter the denominator: 0\n",
            "Error: Cannot divide by zero!\n"
          ]
        }
      ],
      "source": [
        "# Your code here\n",
        "def divide_numbers(a, b):\n",
        "    try:\n",
        "        result = a / b\n",
        "        print(f\"The result is: {result}\")\n",
        "    except ZeroDivisionError:\n",
        "        print(\"Error: Cannot divide by zero!\")\n",
        "\n",
        "num1 = float(input(\"Enter the numerator: \"))\n",
        "num2 = float(input(\"Enter the denominator: \"))\n",
        "\n",
        "divide_numbers(num1, num2)\n"
      ]
    },
    {
      "cell_type": "markdown",
      "metadata": {
        "id": "HY1PehY0GhrG"
      },
      "source": [
        "\n",
        "### Exercise 2: Raise ValueError for Invalid Input\n",
        "Write a Python program that prompts the user to input an integer and raises a `ValueError` exception if the input is not a valid integer.\n",
        "\n"
      ]
    },
    {
      "cell_type": "code",
      "execution_count": 2,
      "metadata": {
        "colab": {
          "base_uri": "https://localhost:8080/"
        },
        "id": "9Npx-x3yGhrI",
        "outputId": "8f9b51ac-f2ba-44db-cf0c-0037e0aaacb9"
      },
      "outputs": [
        {
          "output_type": "stream",
          "name": "stdout",
          "text": [
            "Enter an integer: 5\n",
            "You entered the integer: 5\n"
          ]
        }
      ],
      "source": [
        "# Your code here\n",
        "def get_integer():\n",
        "    user_input = input(\"Enter an integer: \")\n",
        "    if not user_input.lstrip('-').isdigit():\n",
        "        raise ValueError(\"Invalid input! That is not an integer.\")\n",
        "    return int(user_input)\n",
        "\n",
        "try:\n",
        "    number = get_integer()\n",
        "    print(f\"You entered the integer: {number}\")\n",
        "except ValueError as e:\n",
        "    print(f\"Error: {e}\")\n"
      ]
    },
    {
      "cell_type": "markdown",
      "metadata": {
        "id": "_LcoVuUoGhrK"
      },
      "source": [
        "\n",
        "\n",
        "### Exercise 3: Handle FileNotFoundError\n",
        "Write a Python program that opens a file and handles a `FileNotFoundError` exception if the file does not exist.\n",
        "\n"
      ]
    },
    {
      "cell_type": "code",
      "execution_count": 3,
      "metadata": {
        "colab": {
          "base_uri": "https://localhost:8080/"
        },
        "id": "hNyxZdo4GhrN",
        "outputId": "5ff6a608-e9eb-4dfe-fcd8-f6561d8b2882"
      },
      "outputs": [
        {
          "output_type": "stream",
          "name": "stdout",
          "text": [
            "Enter the filename to open: a\n",
            "Error: The file 'a' was not found.\n"
          ]
        }
      ],
      "source": [
        "# Your code here\n",
        "def open_file(filename):\n",
        "    try:\n",
        "        with open(filename, 'r') as file:\n",
        "            contents = file.read()\n",
        "            print(\"File contents:\")\n",
        "            print(contents)\n",
        "    except FileNotFoundError:\n",
        "        print(f\"Error: The file '{filename}' was not found.\")\n",
        "\n",
        "file_name = input(\"Enter the filename to open: \")\n",
        "open_file(file_name)\n"
      ]
    },
    {
      "cell_type": "markdown",
      "metadata": {
        "id": "eKJAbJ8dGhrQ"
      },
      "source": [
        "\n",
        "\n",
        "### Exercise 4: Raise TypeError for Non-Numerical Input\n",
        "Write a Python program that prompts the user to input two numbers and raises a `TypeError` exception if the inputs are not numerical.\n",
        "\n"
      ]
    },
    {
      "cell_type": "code",
      "execution_count": 4,
      "metadata": {
        "colab": {
          "base_uri": "https://localhost:8080/"
        },
        "id": "jPe8QNi1GhrS",
        "outputId": "6ea87cb3-6178-4ca4-ebbc-b1ce79caed05"
      },
      "outputs": [
        {
          "output_type": "stream",
          "name": "stdout",
          "text": [
            "Enter the first number: 2\n",
            "Enter the second number: 2\n",
            "You entered: 2.0 and 2.0\n"
          ]
        }
      ],
      "source": [
        "# Your code here\n",
        "def get_number(prompt):\n",
        "    user_input = input(prompt)\n",
        "    try:\n",
        "        return float(user_input)\n",
        "    except ValueError:\n",
        "        raise TypeError(f\"Invalid input: '{user_input}' is not a number.\")\n",
        "\n",
        "try:\n",
        "    num1 = get_number(\"Enter the first number: \")\n",
        "    num2 = get_number(\"Enter the second number: \")\n",
        "    print(f\"You entered: {num1} and {num2}\")\n",
        "except TypeError as te:\n",
        "    print(f\"TypeError: {te}\")\n"
      ]
    },
    {
      "cell_type": "markdown",
      "metadata": {
        "id": "G6EpH-PXGhrW"
      },
      "source": [
        "\n",
        "\n",
        "### Exercise 5: Handle PermissionError\n",
        "Write a Python program that opens a file and handles a `PermissionError` exception if there is a permission issue.\n",
        "\n",
        "\n"
      ]
    },
    {
      "cell_type": "code",
      "execution_count": 5,
      "metadata": {
        "colab": {
          "base_uri": "https://localhost:8080/",
          "height": 315
        },
        "id": "2Gjmhp5zGhrY",
        "outputId": "e8b4a84d-818a-44f0-ef51-9ff02c7a12ca"
      },
      "outputs": [
        {
          "name": "stdout",
          "output_type": "stream",
          "text": [
            "Enter the filename to open: f\n"
          ]
        },
        {
          "output_type": "error",
          "ename": "FileNotFoundError",
          "evalue": "[Errno 2] No such file or directory: 'f'",
          "traceback": [
            "\u001b[0;31m---------------------------------------------------------------------------\u001b[0m",
            "\u001b[0;31mFileNotFoundError\u001b[0m                         Traceback (most recent call last)",
            "\u001b[0;32m<ipython-input-5-4b579f7e93f9>\u001b[0m in \u001b[0;36m<cell line: 0>\u001b[0;34m()\u001b[0m\n\u001b[1;32m     10\u001b[0m \u001b[0;34m\u001b[0m\u001b[0m\n\u001b[1;32m     11\u001b[0m \u001b[0mfile_name\u001b[0m \u001b[0;34m=\u001b[0m \u001b[0minput\u001b[0m\u001b[0;34m(\u001b[0m\u001b[0;34m\"Enter the filename to open: \"\u001b[0m\u001b[0;34m)\u001b[0m\u001b[0;34m\u001b[0m\u001b[0;34m\u001b[0m\u001b[0m\n\u001b[0;32m---> 12\u001b[0;31m \u001b[0mread_file\u001b[0m\u001b[0;34m(\u001b[0m\u001b[0mfile_name\u001b[0m\u001b[0;34m)\u001b[0m\u001b[0;34m\u001b[0m\u001b[0;34m\u001b[0m\u001b[0m\n\u001b[0m",
            "\u001b[0;32m<ipython-input-5-4b579f7e93f9>\u001b[0m in \u001b[0;36mread_file\u001b[0;34m(filename)\u001b[0m\n\u001b[1;32m      2\u001b[0m \u001b[0;32mdef\u001b[0m \u001b[0mread_file\u001b[0m\u001b[0;34m(\u001b[0m\u001b[0mfilename\u001b[0m\u001b[0;34m)\u001b[0m\u001b[0;34m:\u001b[0m\u001b[0;34m\u001b[0m\u001b[0;34m\u001b[0m\u001b[0m\n\u001b[1;32m      3\u001b[0m     \u001b[0;32mtry\u001b[0m\u001b[0;34m:\u001b[0m\u001b[0;34m\u001b[0m\u001b[0;34m\u001b[0m\u001b[0m\n\u001b[0;32m----> 4\u001b[0;31m         \u001b[0;32mwith\u001b[0m \u001b[0mopen\u001b[0m\u001b[0;34m(\u001b[0m\u001b[0mfilename\u001b[0m\u001b[0;34m,\u001b[0m \u001b[0;34m'r'\u001b[0m\u001b[0;34m)\u001b[0m \u001b[0;32mas\u001b[0m \u001b[0mfile\u001b[0m\u001b[0;34m:\u001b[0m\u001b[0;34m\u001b[0m\u001b[0;34m\u001b[0m\u001b[0m\n\u001b[0m\u001b[1;32m      5\u001b[0m             \u001b[0mcontents\u001b[0m \u001b[0;34m=\u001b[0m \u001b[0mfile\u001b[0m\u001b[0;34m.\u001b[0m\u001b[0mread\u001b[0m\u001b[0;34m(\u001b[0m\u001b[0;34m)\u001b[0m\u001b[0;34m\u001b[0m\u001b[0;34m\u001b[0m\u001b[0m\n\u001b[1;32m      6\u001b[0m             \u001b[0mprint\u001b[0m\u001b[0;34m(\u001b[0m\u001b[0;34m\"File contents:\"\u001b[0m\u001b[0;34m)\u001b[0m\u001b[0;34m\u001b[0m\u001b[0;34m\u001b[0m\u001b[0m\n",
            "\u001b[0;31mFileNotFoundError\u001b[0m: [Errno 2] No such file or directory: 'f'"
          ]
        }
      ],
      "source": [
        "# Your code here\n",
        "def read_file(filename):\n",
        "    try:\n",
        "        with open(filename, 'r') as file:\n",
        "            contents = file.read()\n",
        "            print(\"File contents:\")\n",
        "            print(contents)\n",
        "    except PermissionError:\n",
        "        print(f\"Error: Permission denied when trying to open '{filename}'.\")\n",
        "\n",
        "file_name = input(\"Enter the filename to open: \")\n",
        "read_file(file_name)\n"
      ]
    },
    {
      "cell_type": "markdown",
      "metadata": {
        "id": "TOwUu2WtGhra"
      },
      "source": [
        "\n",
        "\n",
        "### Exercise 6: Handle IndexError in List Operations\n",
        "Write a Python program that executes an operation on a list and handles an `IndexError` exception if the index is out of range.\n",
        "\n",
        "\n"
      ]
    },
    {
      "cell_type": "code",
      "execution_count": 6,
      "metadata": {
        "colab": {
          "base_uri": "https://localhost:8080/"
        },
        "id": "1a-Ftie0Ghrb",
        "outputId": "614571db-e1db-4c0a-f444-0cd7f13d771f"
      },
      "outputs": [
        {
          "output_type": "stream",
          "name": "stdout",
          "text": [
            "Sample list: [10, 20, 30, 40, 50]\n",
            "Enter an index to access: 3\n",
            "Element at index 3: 40\n"
          ]
        }
      ],
      "source": [
        "# Your code here\n",
        "def access_list_element(my_list, index):\n",
        "    try:\n",
        "        value = my_list[index]\n",
        "        print(f\"Element at index {index}: {value}\")\n",
        "    except IndexError:\n",
        "        print(f\"Error: Index {index} is out of range for the list.\")\n",
        "\n",
        "sample_list = [10, 20, 30, 40, 50]\n",
        "\n",
        "print(\"Sample list:\", sample_list)\n",
        "try:\n",
        "    user_index = int(input(\"Enter an index to access: \"))\n",
        "    access_list_element(sample_list, user_index)\n",
        "except ValueError:\n",
        "    print(\"Error: Please enter a valid integer index.\")\n"
      ]
    },
    {
      "cell_type": "markdown",
      "metadata": {
        "id": "DoI0BXjUGhrc"
      },
      "source": [
        "\n",
        "\n",
        "### Exercise 7: Handle KeyboardInterrupt Exception\n",
        "Write a Python program that prompts the user to input a number and handles a `KeyboardInterrupt` exception if the user cancels the input.\n",
        "\n"
      ]
    },
    {
      "cell_type": "code",
      "execution_count": 7,
      "metadata": {
        "colab": {
          "base_uri": "https://localhost:8080/"
        },
        "id": "kYZzMQLyGhrd",
        "outputId": "7be4519c-bb79-415f-8295-b8f0c40d563f"
      },
      "outputs": [
        {
          "output_type": "stream",
          "name": "stdout",
          "text": [
            "Enter a number: 2\n",
            "You entered: 2.0\n"
          ]
        }
      ],
      "source": [
        "# Your code here\n",
        "def get_user_input():\n",
        "    try:\n",
        "        number = float(input(\"Enter a number: \"))\n",
        "        print(f\"You entered: {number}\")\n",
        "    except KeyboardInterrupt:\n",
        "        print(\"\\nInput cancelled by user (KeyboardInterrupt).\")\n",
        "    except ValueError:\n",
        "        print(\"Error: That was not a valid number.\")\n",
        "\n",
        "get_user_input()\n"
      ]
    },
    {
      "cell_type": "markdown",
      "metadata": {
        "id": "FkY1zruwGhre"
      },
      "source": [
        "\n",
        "\n",
        "### Exercise 8: Handle ArithmeticError\n",
        "Write a Python program that executes division and handles an `ArithmeticError` exception if there is an arithmetic error.\n",
        "\n"
      ]
    },
    {
      "cell_type": "code",
      "execution_count": 8,
      "metadata": {
        "colab": {
          "base_uri": "https://localhost:8080/"
        },
        "id": "eFr-9wFJGhre",
        "outputId": "de63ca54-c16c-41d9-908b-6c01a2f4c314"
      },
      "outputs": [
        {
          "output_type": "stream",
          "name": "stdout",
          "text": [
            "Enter the numerator: 23\n",
            "Enter the denominator: 23\n",
            "The result of 23.0 divided by 23.0 is: 1.0\n"
          ]
        }
      ],
      "source": [
        "# Your code here\n",
        "def safe_divide(a, b):\n",
        "    try:\n",
        "        result = a / b\n",
        "        print(f\"The result of {a} divided by {b} is: {result}\")\n",
        "    except ArithmeticError as e:\n",
        "        print(f\"Arithmetic error occurred: {e}\")\n",
        "\n",
        "try:\n",
        "    num1 = float(input(\"Enter the numerator: \"))\n",
        "    num2 = float(input(\"Enter the denominator: \"))\n",
        "    safe_divide(num1, num2)\n",
        "except ValueError:\n",
        "    print(\"Invalid input. Please enter numeric values.\")\n"
      ]
    },
    {
      "cell_type": "markdown",
      "metadata": {
        "id": "AeDet_ThGhrf"
      },
      "source": [
        "\n",
        "\n",
        "### Exercise 9: Handle UnicodeDecodeError\n",
        "Write a Python program that opens a file and handles a `UnicodeDecodeError` exception if there is an encoding issue.\n",
        "\n"
      ]
    },
    {
      "cell_type": "code",
      "execution_count": 9,
      "metadata": {
        "colab": {
          "base_uri": "https://localhost:8080/"
        },
        "id": "ZPLXczcbGhrf",
        "outputId": "2852323a-255b-4ba2-d42a-b7179aea46fb"
      },
      "outputs": [
        {
          "output_type": "stream",
          "name": "stdout",
          "text": [
            "Enter the filename to open: 23\n",
            "Error: File '23' not found.\n"
          ]
        }
      ],
      "source": [
        "# Your code here\n",
        "def read_file_with_handling(filename):\n",
        "    try:\n",
        "        with open(filename, 'r', encoding='utf-8') as file:\n",
        "            contents = file.read()\n",
        "            print(\"File contents:\")\n",
        "            print(contents)\n",
        "    except UnicodeDecodeError:\n",
        "        print(f\"Error: Cannot decode '{filename}' with UTF-8 encoding. Try using a different encoding.\")\n",
        "    except FileNotFoundError:\n",
        "        print(f\"Error: File '{filename}' not found.\")\n",
        "\n",
        "file_name = input(\"Enter the filename to open: \")\n",
        "read_file_with_handling(file_name)\n",
        "\n"
      ]
    },
    {
      "cell_type": "markdown",
      "metadata": {
        "id": "FN_-q3oqGhrg"
      },
      "source": [
        "\n",
        "\n",
        "### Exercise 10: Handle AttributeError\n",
        "Write a Python program that executes an operation on an object and handles an `AttributeError` exception if the attribute does not exist.\n",
        "\n"
      ]
    },
    {
      "cell_type": "code",
      "execution_count": 11,
      "metadata": {
        "colab": {
          "base_uri": "https://localhost:8080/"
        },
        "id": "0FxhqK0tGhrh",
        "outputId": "5b6ef98e-959b-4950-8db6-6e53dd54d67b"
      },
      "outputs": [
        {
          "output_type": "stream",
          "name": "stdout",
          "text": [
            "Enter the attribute name to access (e.g., 'name', 'age'): Alice\n",
            "Error: The attribute 'Alice' does not exist on the object.\n"
          ]
        }
      ],
      "source": [
        "# Your code here\n",
        "class Person:\n",
        "    def __init__(self, name):\n",
        "        self.name = name\n",
        "\n",
        "def access_attribute(obj, attr_name):\n",
        "    try:\n",
        "        value = getattr(obj, attr_name)\n",
        "        print(f\"The value of '{attr_name}' is: {value}\")\n",
        "    except AttributeError:\n",
        "        print(f\"Error: The attribute '{attr_name}' does not exist on the object.\")\n",
        "\n",
        "person = Person(\"Alice\")\n",
        "attribute_to_access = input(\"Enter the attribute name to access (e.g., 'name', 'age'): \")\n",
        "\n",
        "access_attribute(person, attribute_to_access)\n"
      ]
    },
    {
      "cell_type": "markdown",
      "metadata": {
        "id": "hNCKqHXpGhri"
      },
      "source": [
        "\n",
        "\n",
        "## Bonus Exercises\n",
        "\n",
        "### Bonus Exercise 1: Handle Multiple Exceptions\n",
        "Write a Python program that demonstrates handling multiple exceptions in one block.\n",
        "\n",
        "\n"
      ]
    },
    {
      "cell_type": "code",
      "execution_count": null,
      "metadata": {
        "id": "sN14kWWzGhri"
      },
      "outputs": [],
      "source": [
        "# Your code here"
      ]
    },
    {
      "cell_type": "markdown",
      "metadata": {
        "id": "pCCOr9llGhrj"
      },
      "source": [
        "\n",
        "\n",
        "### Bonus Exercise 2: Create Custom Exception\n",
        "Create a custom exception class and raise it in your code when certain conditions are met.\n",
        "\n",
        "\n"
      ]
    },
    {
      "cell_type": "code",
      "execution_count": null,
      "metadata": {
        "id": "QP3j3mrRGhrj"
      },
      "outputs": [],
      "source": [
        "# Your code here"
      ]
    },
    {
      "cell_type": "markdown",
      "metadata": {
        "id": "L7xaPhp5Ghrj"
      },
      "source": [
        "\n",
        "\n",
        "### Bonus Exercise 3: Validate User Input with Exception Handling\n",
        "Write a program that repeatedly prompts the user for valid input until they provide it, using exception handling to manage invalid inputs.\n",
        "\n"
      ]
    },
    {
      "cell_type": "code",
      "execution_count": null,
      "metadata": {
        "id": "XngEgNfeGhrk"
      },
      "outputs": [],
      "source": [
        "# Your code here"
      ]
    },
    {
      "cell_type": "markdown",
      "metadata": {
        "id": "nbZMPRdhGhrk"
      },
      "source": [
        "\n",
        "\n",
        "### Bonus Exercise 4: Log Errors to File\n",
        "Modify your error handling to log errors to a text file instead of printing them to the console.\n",
        "\n"
      ]
    },
    {
      "cell_type": "code",
      "execution_count": null,
      "metadata": {
        "id": "XZ0kjoI1Ghrl"
      },
      "outputs": [],
      "source": [
        "# Your code here"
      ]
    },
    {
      "cell_type": "markdown",
      "metadata": {
        "id": "zumddYeYGhrp"
      },
      "source": [
        "\n",
        "\n",
        "### Bonus Exercise 5: Retry Logic on Exception\n",
        "Implement retry logic for operations that could fail, allowing users to try again after encountering an error.\n",
        "\n"
      ]
    },
    {
      "cell_type": "code",
      "execution_count": null,
      "metadata": {
        "id": "7FPaMIuaGhrq"
      },
      "outputs": [],
      "source": [
        "# Your code here"
      ]
    }
  ],
  "metadata": {
    "kernelspec": {
      "display_name": ".venv",
      "language": "python",
      "name": "python3"
    },
    "language_info": {
      "codemirror_mode": {
        "name": "ipython",
        "version": 3
      },
      "file_extension": ".py",
      "mimetype": "text/x-python",
      "name": "python",
      "nbconvert_exporter": "python",
      "pygments_lexer": "ipython3",
      "version": "3.8.0"
    },
    "colab": {
      "provenance": []
    }
  },
  "nbformat": 4,
  "nbformat_minor": 0
}